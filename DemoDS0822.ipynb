{
 "cells": [
  {
   "cell_type": "code",
   "execution_count": 1,
   "id": "461ce56b",
   "metadata": {
    "scrolled": true
   },
   "outputs": [
    {
     "name": "stdout",
     "output_type": "stream",
     "text": [
      "hello world\n"
     ]
    }
   ],
   "source": [
    "print('hello world') #print() is a function in python\n",
    "#'hello world' is plain text, that is why it has been written inside '', \" \""
   ]
  },
  {
   "cell_type": "code",
   "execution_count": 2,
   "id": "0e35e227",
   "metadata": {},
   "outputs": [
    {
     "name": "stdout",
     "output_type": "stream",
     "text": [
      "\n"
     ]
    }
   ],
   "source": [
    "print()"
   ]
  },
  {
   "cell_type": "code",
   "execution_count": 3,
   "id": "54c78109",
   "metadata": {},
   "outputs": [
    {
     "name": "stdout",
     "output_type": "stream",
     "text": [
      "Pinky's Computer\n"
     ]
    }
   ],
   "source": [
    "# Pinky's Computer\n",
    "print(\"Pinky's Computer\")"
   ]
  },
  {
   "cell_type": "code",
   "execution_count": 4,
   "id": "5a8deb10",
   "metadata": {},
   "outputs": [
    {
     "name": "stdout",
     "output_type": "stream",
     "text": [
      "<class 'int'>\n"
     ]
    }
   ],
   "source": [
    "# Comment--> are never executed\n",
    "#Introducing Variables in Python\n",
    "\n",
    "x = 10 \n",
    "y = 20\n",
    "myName = 'Pinky Sodhi'  #String\n",
    "\n",
    "print(type(x))\n",
    "\n",
    "#x is a vaiable and 10 is a value and we are assigning 10 to x using ="
   ]
  },
  {
   "cell_type": "code",
   "execution_count": null,
   "id": "06ca421e",
   "metadata": {},
   "outputs": [],
   "source": [
    "print(type(myNa"
   ]
  },
  {
   "cell_type": "code",
   "execution_count": 5,
   "id": "92e96b86",
   "metadata": {},
   "outputs": [
    {
     "name": "stdout",
     "output_type": "stream",
     "text": [
      "<class 'str'>\n"
     ]
    }
   ],
   "source": [
    "me))"
   ]
  },
  {
   "cell_type": "code",
   "execution_count": 6,
   "id": "f669e8e5",
   "metadata": {},
   "outputs": [
    {
     "name": "stdout",
     "output_type": "stream",
     "text": [
      "10\n"
     ]
    }
   ],
   "source": [
    "#print the value of x\n",
    "print(x)"
   ]
  },
  {
   "cell_type": "code",
   "execution_count": 7,
   "id": "6194f635",
   "metadata": {},
   "outputs": [
    {
     "data": {
      "text/plain": [
       "10"
      ]
     },
     "execution_count": 7,
     "metadata": {},
     "output_type": "execute_result"
    }
   ],
   "source": [
    "x"
   ]
  },
  {
   "cell_type": "code",
   "execution_count": 8,
   "id": "7f313099",
   "metadata": {},
   "outputs": [
    {
     "name": "stdout",
     "output_type": "stream",
     "text": [
      "20\n"
     ]
    }
   ],
   "source": [
    "print(y)"
   ]
  },
  {
   "cell_type": "code",
   "execution_count": 9,
   "id": "235df4a3",
   "metadata": {},
   "outputs": [
    {
     "name": "stdout",
     "output_type": "stream",
     "text": [
      "Pinky Sodhi\n"
     ]
    }
   ],
   "source": [
    "print(myName)"
   ]
  },
  {
   "cell_type": "code",
   "execution_count": 10,
   "id": "0c3bcba6",
   "metadata": {},
   "outputs": [
    {
     "ename": "NameError",
     "evalue": "name 'z' is not defined",
     "output_type": "error",
     "traceback": [
      "\u001b[1;31m---------------------------------------------------------------------------\u001b[0m",
      "\u001b[1;31mNameError\u001b[0m                                 Traceback (most recent call last)",
      "Input \u001b[1;32mIn [10]\u001b[0m, in \u001b[0;36m<cell line: 1>\u001b[1;34m()\u001b[0m\n\u001b[1;32m----> 1\u001b[0m \u001b[38;5;28mprint\u001b[39m(\u001b[43mz\u001b[49m)\n",
      "\u001b[1;31mNameError\u001b[0m: name 'z' is not defined"
     ]
    }
   ],
   "source": [
    "z=30\n",
    "print(z)"
   ]
  },
  {
   "cell_type": "code",
   "execution_count": 11,
   "id": "e169a91c",
   "metadata": {},
   "outputs": [
    {
     "name": "stdout",
     "output_type": "stream",
     "text": [
      "10 20 Pinky Sodhi\n"
     ]
    }
   ],
   "source": [
    "print(x, y, myName)"
   ]
  },
  {
   "cell_type": "code",
   "execution_count": 12,
   "id": "5a291b03",
   "metadata": {},
   "outputs": [],
   "source": [
    "# My name is Pinky Sodhi\n",
    "myName = 'Pinky Sodhi'\n"
   ]
  },
  {
   "cell_type": "code",
   "execution_count": 15,
   "id": "39b72378",
   "metadata": {},
   "outputs": [
    {
     "name": "stdout",
     "output_type": "stream",
     "text": [
      "My name is Pinky Sodhi\n"
     ]
    }
   ],
   "source": [
    "print('My name is', myName)"
   ]
  },
  {
   "cell_type": "code",
   "execution_count": null,
   "id": "6a33322b",
   "metadata": {},
   "outputs": [],
   "source": []
  },
  {
   "cell_type": "code",
   "execution_count": null,
   "id": "faba089f",
   "metadata": {},
   "outputs": [],
   "source": []
  }
 ],
 "metadata": {
  "kernelspec": {
   "display_name": "Python 3 (ipykernel)",
   "language": "python",
   "name": "python3"
  },
  "language_info": {
   "codemirror_mode": {
    "name": "ipython",
    "version": 3
   },
   "file_extension": ".py",
   "mimetype": "text/x-python",
   "name": "python",
   "nbconvert_exporter": "python",
   "pygments_lexer": "ipython3",
   "version": "3.9.12"
  }
 },
 "nbformat": 4,
 "nbformat_minor": 5
}
